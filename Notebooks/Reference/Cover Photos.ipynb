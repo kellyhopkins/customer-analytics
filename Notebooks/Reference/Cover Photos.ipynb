{
 "cells": [
  {
   "cell_type": "markdown",
   "metadata": {},
   "source": [
    "<img src=\"../src/imgs/roberto-catarinicchia-DqdOOfKpqHo-unsplash.jpg\">\n",
    "<span>Photo by <a href=\"https://unsplash.com/@robertoc95?utm_source=unsplash&amp;utm_medium=referral&amp;utm_content=creditCopyText\">Roberto  Catarinicchia</a> on <a href=\"https://unsplash.com/?utm_source=unsplash&amp;utm_medium=referral&amp;utm_content=creditCopyText\">Unsplash</a></span>"
   ]
  },
  {
   "cell_type": "markdown",
   "metadata": {},
   "source": [
    "<img src='../src/imgs/master-wen-lpLRwDZigvc-unsplash.jpg'>\n",
    "<span>Photo by <a href=\"https://unsplash.com/@36chambers?utm_source=unsplash&amp;utm_medium=referral&amp;utm_content=creditCopyText\">Master Wen</a> on <a href=\"https://unsplash.com/?utm_source=unsplash&amp;utm_medium=referral&amp;utm_content=creditCopyText\">Unsplash</a></span>"
   ]
  },
  {
   "cell_type": "markdown",
   "metadata": {},
   "source": [
    "<img src=\"../src/imgs/jacqueline-day-GAdnuvtp4E0-unsplash.jpg\">\n",
    "<span>Photo by <a href=\"https://unsplash.com/@jacday_alabaster?utm_source=unsplash&amp;utm_medium=referral&amp;utm_content=creditCopyText\">Jacqueline Day</a> on <a href=\"https://unsplash.com/?utm_source=unsplash&amp;utm_medium=referral&amp;utm_content=creditCopyText\">Unsplash</a></span>"
   ]
  },
  {
   "cell_type": "markdown",
   "metadata": {},
   "source": [
    "<img src=\"../src/imgs/actionvance-guy5aS3GvgA-unsplash.jpg\">\n",
    "<span>Photo by <a href=\"https://unsplash.com/@actionvance?utm_source=unsplash&amp;utm_medium=referral&amp;utm_content=creditCopyText\">ActionVance</a> on <a href=\"https://unsplash.com/?utm_source=unsplash&amp;utm_medium=referral&amp;utm_content=creditCopyText\">Unsplash</a></span>"
   ]
  }
 ],
 "metadata": {
  "kernelspec": {
   "display_name": "Python 3",
   "language": "python",
   "name": "python3"
  },
  "language_info": {
   "codemirror_mode": {
    "name": "ipython",
    "version": 3
   },
   "file_extension": ".py",
   "mimetype": "text/x-python",
   "name": "python",
   "nbconvert_exporter": "python",
   "pygments_lexer": "ipython3",
   "version": "3.8.5"
  }
 },
 "nbformat": 4,
 "nbformat_minor": 4
}
